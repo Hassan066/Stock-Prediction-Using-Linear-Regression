{
 "cells": [
  {
   "cell_type": "code",
   "execution_count": 2,
   "id": "3fbff8c7",
   "metadata": {
    "slideshow": {
     "slide_type": "slide"
    }
   },
   "outputs": [],
   "source": [
    "#importing the libraries\n",
    "import pandas as pd\n",
    "import numpy as np\n",
    "import matplotlib.pyplot as plt"
   ]
  },
  {
   "cell_type": "code",
   "execution_count": 3,
   "id": "739c9a6c",
   "metadata": {
    "slideshow": {
     "slide_type": "subslide"
    }
   },
   "outputs": [],
   "source": [
    "#importing the dataset\n",
    "stockdata=pd.read_csv('reliance_data.csv')"
   ]
  },
  {
   "cell_type": "code",
   "execution_count": 4,
   "id": "f503b3c4",
   "metadata": {
    "slideshow": {
     "slide_type": "subslide"
    }
   },
   "outputs": [
    {
     "data": {
      "text/html": [
       "<div>\n",
       "<style scoped>\n",
       "    .dataframe tbody tr th:only-of-type {\n",
       "        vertical-align: middle;\n",
       "    }\n",
       "\n",
       "    .dataframe tbody tr th {\n",
       "        vertical-align: top;\n",
       "    }\n",
       "\n",
       "    .dataframe thead th {\n",
       "        text-align: right;\n",
       "    }\n",
       "</style>\n",
       "<table border=\"1\" class=\"dataframe\">\n",
       "  <thead>\n",
       "    <tr style=\"text-align: right;\">\n",
       "      <th></th>\n",
       "      <th>Date</th>\n",
       "      <th>Symbol</th>\n",
       "      <th>Series</th>\n",
       "      <th>Prev Close</th>\n",
       "      <th>Open</th>\n",
       "      <th>High</th>\n",
       "      <th>Low</th>\n",
       "      <th>Last</th>\n",
       "      <th>Close</th>\n",
       "      <th>VWAP</th>\n",
       "      <th>Volume</th>\n",
       "      <th>Turnover</th>\n",
       "      <th>Trades</th>\n",
       "      <th>Deliverable Volume</th>\n",
       "      <th>%Deliverble</th>\n",
       "    </tr>\n",
       "  </thead>\n",
       "  <tbody>\n",
       "    <tr>\n",
       "      <th>0</th>\n",
       "      <td>01-01-1996</td>\n",
       "      <td>RELIANCE</td>\n",
       "      <td>EQ</td>\n",
       "      <td>204.65</td>\n",
       "      <td>205.00</td>\n",
       "      <td>206.10</td>\n",
       "      <td>203.65</td>\n",
       "      <td>NaN</td>\n",
       "      <td>205.75</td>\n",
       "      <td>205.26</td>\n",
       "      <td>3717450</td>\n",
       "      <td>7.630000e+13</td>\n",
       "      <td>NaN</td>\n",
       "      <td>NaN</td>\n",
       "      <td>NaN</td>\n",
       "    </tr>\n",
       "    <tr>\n",
       "      <th>1</th>\n",
       "      <td>02-01-1996</td>\n",
       "      <td>RELIANCE</td>\n",
       "      <td>EQ</td>\n",
       "      <td>205.75</td>\n",
       "      <td>205.25</td>\n",
       "      <td>206.25</td>\n",
       "      <td>202.65</td>\n",
       "      <td>NaN</td>\n",
       "      <td>204.15</td>\n",
       "      <td>204.13</td>\n",
       "      <td>6024650</td>\n",
       "      <td>1.230000e+14</td>\n",
       "      <td>NaN</td>\n",
       "      <td>NaN</td>\n",
       "      <td>NaN</td>\n",
       "    </tr>\n",
       "    <tr>\n",
       "      <th>2</th>\n",
       "      <td>03-01-1996</td>\n",
       "      <td>RELIANCE</td>\n",
       "      <td>EQ</td>\n",
       "      <td>204.15</td>\n",
       "      <td>207.50</td>\n",
       "      <td>216.95</td>\n",
       "      <td>205.25</td>\n",
       "      <td>NaN</td>\n",
       "      <td>205.70</td>\n",
       "      <td>207.04</td>\n",
       "      <td>7473500</td>\n",
       "      <td>1.550000e+14</td>\n",
       "      <td>NaN</td>\n",
       "      <td>NaN</td>\n",
       "      <td>NaN</td>\n",
       "    </tr>\n",
       "    <tr>\n",
       "      <th>3</th>\n",
       "      <td>04-01-1996</td>\n",
       "      <td>RELIANCE</td>\n",
       "      <td>EQ</td>\n",
       "      <td>205.70</td>\n",
       "      <td>203.75</td>\n",
       "      <td>204.40</td>\n",
       "      <td>201.05</td>\n",
       "      <td>NaN</td>\n",
       "      <td>203.80</td>\n",
       "      <td>202.47</td>\n",
       "      <td>7744000</td>\n",
       "      <td>1.570000e+14</td>\n",
       "      <td>NaN</td>\n",
       "      <td>NaN</td>\n",
       "      <td>NaN</td>\n",
       "    </tr>\n",
       "    <tr>\n",
       "      <th>4</th>\n",
       "      <td>05-01-1996</td>\n",
       "      <td>RELIANCE</td>\n",
       "      <td>EQ</td>\n",
       "      <td>203.80</td>\n",
       "      <td>203.00</td>\n",
       "      <td>203.00</td>\n",
       "      <td>200.65</td>\n",
       "      <td>NaN</td>\n",
       "      <td>202.40</td>\n",
       "      <td>202.05</td>\n",
       "      <td>5952000</td>\n",
       "      <td>1.200000e+14</td>\n",
       "      <td>NaN</td>\n",
       "      <td>NaN</td>\n",
       "      <td>NaN</td>\n",
       "    </tr>\n",
       "  </tbody>\n",
       "</table>\n",
       "</div>"
      ],
      "text/plain": [
       "         Date    Symbol Series  Prev Close    Open    High     Low  Last  \\\n",
       "0  01-01-1996  RELIANCE     EQ      204.65  205.00  206.10  203.65   NaN   \n",
       "1  02-01-1996  RELIANCE     EQ      205.75  205.25  206.25  202.65   NaN   \n",
       "2  03-01-1996  RELIANCE     EQ      204.15  207.50  216.95  205.25   NaN   \n",
       "3  04-01-1996  RELIANCE     EQ      205.70  203.75  204.40  201.05   NaN   \n",
       "4  05-01-1996  RELIANCE     EQ      203.80  203.00  203.00  200.65   NaN   \n",
       "\n",
       "    Close    VWAP   Volume      Turnover  Trades  Deliverable Volume  \\\n",
       "0  205.75  205.26  3717450  7.630000e+13     NaN                 NaN   \n",
       "1  204.15  204.13  6024650  1.230000e+14     NaN                 NaN   \n",
       "2  205.70  207.04  7473500  1.550000e+14     NaN                 NaN   \n",
       "3  203.80  202.47  7744000  1.570000e+14     NaN                 NaN   \n",
       "4  202.40  202.05  5952000  1.200000e+14     NaN                 NaN   \n",
       "\n",
       "   %Deliverble  \n",
       "0          NaN  \n",
       "1          NaN  \n",
       "2          NaN  \n",
       "3          NaN  \n",
       "4          NaN  "
      ]
     },
     "execution_count": 4,
     "metadata": {},
     "output_type": "execute_result"
    }
   ],
   "source": [
    "stockdata.head()"
   ]
  },
  {
   "cell_type": "code",
   "execution_count": 5,
   "id": "9027409e",
   "metadata": {
    "slideshow": {
     "slide_type": "slide"
    }
   },
   "outputs": [
    {
     "name": "stdout",
     "output_type": "stream",
     "text": [
      "<class 'pandas.core.frame.DataFrame'>\n",
      "RangeIndex: 6205 entries, 0 to 6204\n",
      "Data columns (total 15 columns):\n",
      " #   Column              Non-Null Count  Dtype  \n",
      "---  ------              --------------  -----  \n",
      " 0   Date                6205 non-null   object \n",
      " 1   Symbol              6205 non-null   object \n",
      " 2   Series              6205 non-null   object \n",
      " 3   Prev Close          6205 non-null   float64\n",
      " 4   Open                6205 non-null   float64\n",
      " 5   High                6205 non-null   float64\n",
      " 6   Low                 6205 non-null   float64\n",
      " 7   Last                5657 non-null   float64\n",
      " 8   Close               6205 non-null   float64\n",
      " 9   VWAP                6205 non-null   float64\n",
      " 10  Volume              6205 non-null   int64  \n",
      " 11  Turnover            6205 non-null   float64\n",
      " 12  Trades              2356 non-null   float64\n",
      " 13  Deliverable Volume  4693 non-null   float64\n",
      " 14  %Deliverble         4693 non-null   float64\n",
      "dtypes: float64(11), int64(1), object(3)\n",
      "memory usage: 727.3+ KB\n"
     ]
    }
   ],
   "source": [
    "stockdata.info()"
   ]
  },
  {
   "cell_type": "code",
   "execution_count": 6,
   "id": "4cdc87f0",
   "metadata": {
    "slideshow": {
     "slide_type": "subslide"
    }
   },
   "outputs": [
    {
     "name": "stdout",
     "output_type": "stream",
     "text": [
      "Highest Trade Price - 3220.85\n",
      "Lowest Trade Price - 101.3\n"
     ]
    }
   ],
   "source": [
    "#Checking the Highest and Lowest Trade\n",
    "print(\"Highest Trade Price - \"+str(max(stockdata[\"Close\"])))\n",
    "print(\"Lowest Trade Price - \"+str(min(stockdata[\"Close\"])))"
   ]
  },
  {
   "cell_type": "code",
   "execution_count": 7,
   "id": "2d43bdfd",
   "metadata": {
    "slideshow": {
     "slide_type": "slide"
    }
   },
   "outputs": [],
   "source": [
    "#Splitting the dataset\n",
    "x=stockdata.iloc[:,3:5].values\n",
    "y=stockdata.iloc[:,8:9].values"
   ]
  },
  {
   "cell_type": "code",
   "execution_count": 8,
   "id": "652328bc",
   "metadata": {
    "slideshow": {
     "slide_type": "subslide"
    }
   },
   "outputs": [],
   "source": [
    "#random_state is the seed used by the random number generator, it can be any integer.\n",
    "#Splitting the data in to Train and Test Data\n",
    "from sklearn.model_selection import train_test_split\n",
    "X_train, X_test, y_train, y_test = train_test_split(x, y, train_size=0.7 ,test_size = 0.3, random_state=0)"
   ]
  },
  {
   "cell_type": "code",
   "execution_count": 9,
   "id": "563efc70",
   "metadata": {
    "slideshow": {
     "slide_type": "subslide"
    }
   },
   "outputs": [],
   "source": [
    "#importing the linear regression model\n",
    "from sklearn.linear_model import LinearRegression\n",
    "from sklearn.model_selection import cross_val_score"
   ]
  },
  {
   "cell_type": "code",
   "execution_count": 10,
   "id": "010ef678",
   "metadata": {
    "slideshow": {
     "slide_type": "subslide"
    }
   },
   "outputs": [
    {
     "data": {
      "text/plain": [
       "LinearRegression()"
      ]
     },
     "execution_count": 10,
     "metadata": {},
     "output_type": "execute_result"
    }
   ],
   "source": [
    "#fitting the model\n",
    "reg=LinearRegression()\n",
    "reg.fit(X_train,y_train)"
   ]
  },
  {
   "cell_type": "code",
   "execution_count": 11,
   "id": "b6991dd7",
   "metadata": {
    "slideshow": {
     "slide_type": "slide"
    }
   },
   "outputs": [
    {
     "data": {
      "text/plain": [
       "array([-468.28028425, -661.41418242, -690.33038327, -526.97260423,\n",
       "       -398.90306889, -533.96851232, -652.57748432, -913.93241372,\n",
       "       -529.01630865, -691.58636084])"
      ]
     },
     "execution_count": 11,
     "metadata": {},
     "output_type": "execute_result"
    }
   ],
   "source": [
    "cross_val_score(reg,X_train,y_train,scoring='neg_mean_squared_error',cv=10)"
   ]
  },
  {
   "cell_type": "code",
   "execution_count": 18,
   "id": "dc3d2ef9",
   "metadata": {
    "slideshow": {
     "slide_type": "subslide"
    }
   },
   "outputs": [],
   "source": [
    "#Calculating the negative Mean Squared Error Using Cross Validation technique\n",
    "mse=cross_val_score(reg,X_train,y_train,scoring='neg_mean_squared_error',cv=10)"
   ]
  },
  {
   "cell_type": "code",
   "execution_count": 19,
   "id": "cb4e82e6",
   "metadata": {
    "slideshow": {
     "slide_type": "subslide"
    }
   },
   "outputs": [
    {
     "data": {
      "text/plain": [
       "-606.6981602907327"
      ]
     },
     "execution_count": 19,
     "metadata": {},
     "output_type": "execute_result"
    }
   ],
   "source": [
    "np.mean(mse)"
   ]
  },
  {
   "cell_type": "code",
   "execution_count": 20,
   "id": "53edc9f3",
   "metadata": {
    "slideshow": {
     "slide_type": "slide"
    }
   },
   "outputs": [
    {
     "name": "stdout",
     "output_type": "stream",
     "text": [
      "                            OLS Regression Results                            \n",
      "==============================================================================\n",
      "Dep. Variable:                      y   R-squared:                       0.998\n",
      "Model:                            OLS   Adj. R-squared:                  0.998\n",
      "Method:                 Least Squares   F-statistic:                 1.276e+06\n",
      "Date:                Sat, 04 Feb 2023   Prob (F-statistic):               0.00\n",
      "Time:                        19:08:33   Log-Likelihood:                -20005.\n",
      "No. Observations:                4343   AIC:                         4.002e+04\n",
      "Df Residuals:                    4340   BIC:                         4.004e+04\n",
      "Df Model:                           2                                         \n",
      "Covariance Type:            nonrobust                                         \n",
      "==============================================================================\n",
      "                 coef    std err          t      P>|t|      [0.025      0.975]\n",
      "------------------------------------------------------------------------------\n",
      "const          2.1128      0.654      3.228      0.001       0.830       3.396\n",
      "x1             0.1169      0.014      8.240      0.000       0.089       0.145\n",
      "x2             0.8794      0.014     62.120      0.000       0.852       0.907\n",
      "==============================================================================\n",
      "Omnibus:                     1270.621   Durbin-Watson:                   2.017\n",
      "Prob(Omnibus):                  0.000   Jarque-Bera (JB):            97153.386\n",
      "Skew:                          -0.451   Prob(JB):                         0.00\n",
      "Kurtosis:                      26.153   Cond. No.                     2.64e+03\n",
      "==============================================================================\n",
      "\n",
      "Notes:\n",
      "[1] Standard Errors assume that the covariance matrix of the errors is correctly specified.\n",
      "[2] The condition number is large, 2.64e+03. This might indicate that there are\n",
      "strong multicollinearity or other numerical problems.\n"
     ]
    }
   ],
   "source": [
    "#building a ols model to check the correlation\n",
    "import statsmodels.api as sm         \n",
    "X_train = sm.add_constant(X_train)   \n",
    "lm = sm.OLS(y_train,X_train).fit()\n",
    "print(lm.summary())"
   ]
  },
  {
   "cell_type": "code",
   "execution_count": 24,
   "id": "c1ca09de",
   "metadata": {
    "slideshow": {
     "slide_type": "slide"
    }
   },
   "outputs": [],
   "source": [
    "#prediction\n",
    "reg_pred=reg.predict(X_test)"
   ]
  },
  {
   "cell_type": "code",
   "execution_count": 25,
   "id": "454eeb30",
   "metadata": {
    "slideshow": {
     "slide_type": "subslide"
    }
   },
   "outputs": [
    {
     "data": {
      "text/plain": [
       "array([[ 259.24136519],\n",
       "       [ 837.20204323],\n",
       "       [2069.6925023 ],\n",
       "       ...,\n",
       "       [ 719.45645781],\n",
       "       [ 861.35249908],\n",
       "       [2334.06976644]])"
      ]
     },
     "execution_count": 25,
     "metadata": {},
     "output_type": "execute_result"
    }
   ],
   "source": [
    "reg_pred"
   ]
  },
  {
   "cell_type": "code",
   "execution_count": 27,
   "id": "4c592aa8",
   "metadata": {
    "slideshow": {
     "slide_type": "slide"
    }
   },
   "outputs": [
    {
     "data": {
      "text/html": [
       "<div>\n",
       "<style scoped>\n",
       "    .dataframe tbody tr th:only-of-type {\n",
       "        vertical-align: middle;\n",
       "    }\n",
       "\n",
       "    .dataframe tbody tr th {\n",
       "        vertical-align: top;\n",
       "    }\n",
       "\n",
       "    .dataframe thead th {\n",
       "        text-align: right;\n",
       "    }\n",
       "</style>\n",
       "<table border=\"1\" class=\"dataframe\">\n",
       "  <thead>\n",
       "    <tr style=\"text-align: right;\">\n",
       "      <th></th>\n",
       "      <th>Actual value</th>\n",
       "      <th>Predicted value</th>\n",
       "    </tr>\n",
       "  </thead>\n",
       "  <tbody>\n",
       "    <tr>\n",
       "      <th>0</th>\n",
       "      <td>[254.05]</td>\n",
       "      <td>[259.2413651853076]</td>\n",
       "    </tr>\n",
       "    <tr>\n",
       "      <th>1</th>\n",
       "      <td>[844.75]</td>\n",
       "      <td>[837.2020432264854]</td>\n",
       "    </tr>\n",
       "    <tr>\n",
       "      <th>2</th>\n",
       "      <td>[1993.25]</td>\n",
       "      <td>[2069.692502296693]</td>\n",
       "    </tr>\n",
       "    <tr>\n",
       "      <th>3</th>\n",
       "      <td>[333.6]</td>\n",
       "      <td>[337.2566166231292]</td>\n",
       "    </tr>\n",
       "    <tr>\n",
       "      <th>4</th>\n",
       "      <td>[788.4]</td>\n",
       "      <td>[793.6281246535359]</td>\n",
       "    </tr>\n",
       "    <tr>\n",
       "      <th>5</th>\n",
       "      <td>[716.8]</td>\n",
       "      <td>[714.9925275651955]</td>\n",
       "    </tr>\n",
       "    <tr>\n",
       "      <th>6</th>\n",
       "      <td>[167.2]</td>\n",
       "      <td>[166.6902803727672]</td>\n",
       "    </tr>\n",
       "    <tr>\n",
       "      <th>7</th>\n",
       "      <td>[746.75]</td>\n",
       "      <td>[740.0025107687934]</td>\n",
       "    </tr>\n",
       "    <tr>\n",
       "      <th>8</th>\n",
       "      <td>[1058.4]</td>\n",
       "      <td>[1056.3805539534533]</td>\n",
       "    </tr>\n",
       "    <tr>\n",
       "      <th>9</th>\n",
       "      <td>[984.35]</td>\n",
       "      <td>[977.4674038183543]</td>\n",
       "    </tr>\n",
       "  </tbody>\n",
       "</table>\n",
       "</div>"
      ],
      "text/plain": [
       "  Actual value       Predicted value\n",
       "0     [254.05]   [259.2413651853076]\n",
       "1     [844.75]   [837.2020432264854]\n",
       "2    [1993.25]   [2069.692502296693]\n",
       "3      [333.6]   [337.2566166231292]\n",
       "4      [788.4]   [793.6281246535359]\n",
       "5      [716.8]   [714.9925275651955]\n",
       "6      [167.2]   [166.6902803727672]\n",
       "7     [746.75]   [740.0025107687934]\n",
       "8     [1058.4]  [1056.3805539534533]\n",
       "9     [984.35]   [977.4674038183543]"
      ]
     },
     "execution_count": 27,
     "metadata": {},
     "output_type": "execute_result"
    }
   ],
   "source": [
    "#comparing the actual values with the predicted values\n",
    "stock_diff = pd.DataFrame({'Actual value':y_test.tolist(), 'Predicted value': reg_pred.tolist()})\n",
    "stock_diff.head(10)"
   ]
  },
  {
   "cell_type": "code",
   "execution_count": 28,
   "id": "ede96f37",
   "metadata": {
    "slideshow": {
     "slide_type": "subslide"
    }
   },
   "outputs": [
    {
     "data": {
      "text/plain": [
       "<seaborn.axisgrid.FacetGrid at 0x21e07ca1460>"
      ]
     },
     "execution_count": 28,
     "metadata": {},
     "output_type": "execute_result"
    },
    {
     "data": {
      "image/png": "[encoded data removed]",
      "text/plain": [
       "<Figure size 402.375x360 with 1 Axes>"
      ]
     },
     "metadata": {
      "needs_background": "light"
     },
     "output_type": "display_data"
    }
   ],
   "source": [
    "#comparing the actual values with the predicted values in visulazation\n",
    "import seaborn as sns\n",
    "sns.displot(reg_pred-y_test,kind='kde')"
   ]
  },
  {
   "cell_type": "code",
   "execution_count": 33,
   "id": "b474e0f8",
   "metadata": {
    "slideshow": {
     "slide_type": "slide"
    }
   },
   "outputs": [
    {
     "name": "stdout",
     "output_type": "stream",
     "text": [
      "R squared: 99.83\n",
      "Mean Absolute Error: 13.116457980301512\n",
      "Mean Square Error: 551.4761656530053\n"
     ]
    }
   ],
   "source": [
    "#Calculating mean Square and absolute mean square error\n",
    "from sklearn import metrics\n",
    "meanAbErr = metrics.mean_absolute_error(y_test, reg_pred)\n",
    "meanSqErr = metrics.mean_squared_error(y_test, reg_pred)\n",
    "print('R squared: {:.2f}'.format(reg.score(x,y)*100))\n",
    "print('Mean Absolute Error:', meanAbErr)\n",
    "print('Mean Square Error:', meanSqErr)"
   ]
  },
  {
   "cell_type": "code",
   "execution_count": 34,
   "id": "91563170",
   "metadata": {
    "slideshow": {
     "slide_type": "subslide"
    }
   },
   "outputs": [],
   "source": [
    "from sklearn.metrics import r2_score"
   ]
  },
  {
   "cell_type": "code",
   "execution_count": 35,
   "id": "2faa23a3",
   "metadata": {
    "slideshow": {
     "slide_type": "subslide"
    }
   },
   "outputs": [],
   "source": [
    "score=r2_score(reg_pred,y_test)"
   ]
  },
  {
   "cell_type": "code",
   "execution_count": 36,
   "id": "b5c8e773",
   "metadata": {
    "slideshow": {
     "slide_type": "subslide"
    }
   },
   "outputs": [
    {
     "data": {
      "text/plain": [
       "0.9984067549155271"
      ]
     },
     "execution_count": 36,
     "metadata": {},
     "output_type": "execute_result"
    }
   ],
   "source": [
    "score"
   ]
  },
  {
   "cell_type": "markdown",
   "id": "d7242419",
   "metadata": {
    "slideshow": {
     "slide_type": "slide"
    }
   },
   "source": [
    "So Our Predicted Model Getting a Score Or Accuaracy of 99%"
   ]
  }
 ],
 "metadata": {
  "celltoolbar": "Slideshow",
  "kernelspec": {
   "display_name": "Python 3 (ipykernel)",
   "language": "python",
   "name": "python3"
  },
  "language_info": {
   "codemirror_mode": {
    "name": "ipython",
    "version": 3
   },
   "file_extension": ".py",
   "mimetype": "text/x-python",
   "name": "python",
   "nbconvert_exporter": "python",
   "pygments_lexer": "ipython3",
   "version": "3.9.12"
  }
 },
 "nbformat": 4,
 "nbformat_minor": 5
}
